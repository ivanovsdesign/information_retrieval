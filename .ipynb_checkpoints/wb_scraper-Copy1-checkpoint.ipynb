{
 "cells": [
  {
   "cell_type": "markdown",
   "id": "899e00f5",
   "metadata": {},
   "source": [
    "#image XPATH\n",
    "\n",
    "//*[@id=\"f4a8b32f-327a-fade-701a-dec8f1af9ac4\"]/div/div/div[1]/ul/li[1]/div/img\n",
    "\n",
    "https://basket-03.wbbasket.ru/vol380/part38098/38098434/images/tm/1.jpg"
   ]
  },
  {
   "cell_type": "code",
   "execution_count": 155,
   "id": "8d31afe5",
   "metadata": {},
   "outputs": [],
   "source": [
    "def go_next_page(driver, page_count: int):\n",
    "    next_page = driver.find_elements(By.CLASS_NAME, ('j-next-page'))\n",
    "    if next_page:\n",
    "        page_count += 1\n",
    "        driver.get(f'https://www.wildberries.ru/catalog/dom/dachniy-sezon/sadovaya-tehnika/trimmery?sort=popular&page={page_count}')\n",
    "    return page_count\n",
    "\n",
    "def get_wb_product_links(driver):\n",
    "    items_count = 0\n",
    "    cards = driver.find_elements(By.CLASS_NAME, \"product-card__link\")\n",
    "    for card in cards:\n",
    "        title = card.get_attribute('aria-label')\n",
    "        url = card.get_attribute('href')\n",
    "        temp_data = {\n",
    "            'title' : title,\n",
    "            'url' : url\n",
    "        }\n",
    "        items_count += 1 \n",
    "        write_metadata(temp_data, 'data.csv')\n",
    "    return items_count"
   ]
  },
  {
   "cell_type": "code",
   "execution_count": 135,
   "id": "8086c5aa",
   "metadata": {},
   "outputs": [],
   "source": [
    "def scroll_to_bottom(driver):\n",
    "    page_height = driver.execute_script(\"return document.body.scrollHeight\")\n",
    "    driver.execute_script(\"window.scrollTo(0, document.body.scrollHeight);\")\n",
    "    time.sleep(2)\n",
    "    new_page_height = driver.execute_script(\"return document.body.scrollHeight\")\n",
    "    if new_page_height != page_height:\n",
    "        scroll_to_bottom(driver)\n",
    "    time.sleep(1)\n",
    "    # Scrolling up a little bit\n",
    "    driver.execute_script(\"window.scrollBy(0, -250);\")"
   ]
  },
  {
   "cell_type": "code",
   "execution_count": 186,
   "id": "c75b2921",
   "metadata": {},
   "outputs": [
    {
     "data": {
      "text/plain": [
       "'.webp'"
      ]
     },
     "execution_count": 186,
     "metadata": {},
     "output_type": "execute_result"
    }
   ],
   "source": [
    "from urllib.parse import urlparse\n",
    "\n",
    "\n",
    "parsed_url = urlparse('https://basket-14.wbbasket.ru/vol2096/part209650/209650955/images/big/1.webp')\n",
    "file_extension = os.path.splitext(parsed_url.path)[1]\n",
    "file_extension"
   ]
  },
  {
   "cell_type": "code",
   "execution_count": 214,
   "id": "7b87a352",
   "metadata": {},
   "outputs": [],
   "source": [
    "import csv\n",
    "\n",
    "def scrape_wb_page(driver, url):\n",
    "    driver.get(url)\n",
    "    time.sleep(5)\n",
    "    \n",
    "    # Text data\n",
    "    product_art = driver.find_element(By.ID, 'productNmId')\n",
    "    product_title = driver.find_element(By.CSS_SELECTOR, 'h1.product-page__title')\n",
    "    product_description = driver.find_element(By.CSS_SELECTOR, 'table.product-params__table')\n",
    "    \n",
    "    # Cover image retrieval\n",
    "    image_elements = driver.find_elements(By.XPATH, '//img[contains(@alt, \"Вид 1\")]')\n",
    "    image_url = image_elements[0].get_attribute(\"src\")\n",
    "    parsed_url = urlparse(image_url)\n",
    "    file_extension = os.path.splitext(parsed_url.path)[1]\n",
    "    filename, headers = urllib.request.urlretrieve(image_url, f\"/res/img/{product_art.text}{file_extension}\")\n",
    "\n",
    "    # Getting image metadata\n",
    "    \n",
    "    image = Image.open(filename)\n",
    "    filesize = os.path.getsize(filename) / 1024 # Converting to KB\n",
    "    \n",
    "    metadata = {\n",
    "    \"id\": int(product_art.text),\n",
    "    \"product_title\": product_title.text,\n",
    "    \"product_description\": BeautifulSoup(product_description.get_attribute(\"outerHTML\"), 'html.parser').get_text(),\n",
    "    \"filename\": filename,\n",
    "    \"format\": image.format,\n",
    "    \"mode\": image.mode,\n",
    "    \"resolution\": image.size,\n",
    "    \"filesize\": round(filesize, 2),\n",
    "    \"retrieved\": time.time()\n",
    "    }\n",
    "    \n",
    "    image.close()\n",
    "    \n",
    "    return metadata\n",
    "\n",
    "def write_metadata(metadata: dict, filename: str):\n",
    "    csv_file_path = filename\n",
    "\n",
    "    if not os.path.exists(csv_file_path):\n",
    "        with open(csv_file_path, 'w', newline='') as csvfile:\n",
    "            writer = csv.DictWriter(csvfile, fieldnames=metadata.keys())\n",
    "            writer.writeheader()\n",
    "\n",
    "    with open(csv_file_path, 'a', newline='') as csvfile:\n",
    "        writer = csv.DictWriter(csvfile, fieldnames=metadata.keys())\n",
    "        writer.writerow(metadata)\n",
    "    "
   ]
  },
  {
   "cell_type": "code",
   "execution_count": 157,
   "id": "2c7b3cf1",
   "metadata": {},
   "outputs": [
    {
     "name": "stderr",
     "output_type": "stream",
     "text": [
      "  9%|███▌                                      | 30/350 [00:12<02:12,  2.41it/s]"
     ]
    },
    {
     "name": "stdout",
     "output_type": "stream",
     "text": [
      "Retrieved 30 items\n"
     ]
    },
    {
     "name": "stderr",
     "output_type": "stream",
     "text": [
      "\r",
      " 21%|█████████                                 | 75/350 [00:26<01:32,  2.96it/s]"
     ]
    },
    {
     "name": "stdout",
     "output_type": "stream",
     "text": [
      "Retrieved 45 items\n"
     ]
    },
    {
     "name": "stderr",
     "output_type": "stream",
     "text": [
      "\r",
      " 34%|██████████████                           | 120/350 [00:38<01:10,  3.25it/s]"
     ]
    },
    {
     "name": "stdout",
     "output_type": "stream",
     "text": [
      "Retrieved 45 items\n"
     ]
    },
    {
     "name": "stderr",
     "output_type": "stream",
     "text": [
      "\r",
      " 47%|███████████████████▎                     | 165/350 [00:51<00:55,  3.32it/s]"
     ]
    },
    {
     "name": "stdout",
     "output_type": "stream",
     "text": [
      "Retrieved 45 items\n"
     ]
    },
    {
     "name": "stderr",
     "output_type": "stream",
     "text": [
      "\r",
      " 60%|████████████████████████▌                | 210/350 [01:04<00:41,  3.35it/s]"
     ]
    },
    {
     "name": "stdout",
     "output_type": "stream",
     "text": [
      "Retrieved 45 items\n"
     ]
    },
    {
     "name": "stderr",
     "output_type": "stream",
     "text": [
      "\r",
      " 73%|█████████████████████████████▊           | 255/350 [01:17<00:27,  3.43it/s]"
     ]
    },
    {
     "name": "stdout",
     "output_type": "stream",
     "text": [
      "Retrieved 45 items\n"
     ]
    },
    {
     "name": "stderr",
     "output_type": "stream",
     "text": [
      "\r",
      " 86%|███████████████████████████████████▏     | 300/350 [01:30<00:14,  3.44it/s]"
     ]
    },
    {
     "name": "stdout",
     "output_type": "stream",
     "text": [
      "Retrieved 45 items\n"
     ]
    },
    {
     "name": "stderr",
     "output_type": "stream",
     "text": [
      "\r",
      " 99%|████████████████████████████████████████▍| 345/350 [01:42<00:01,  3.50it/s]"
     ]
    },
    {
     "name": "stdout",
     "output_type": "stream",
     "text": [
      "Retrieved 45 items\n"
     ]
    },
    {
     "name": "stderr",
     "output_type": "stream",
     "text": [
      "\r",
      "390it [01:55,  3.51it/s]                                                        "
     ]
    },
    {
     "name": "stdout",
     "output_type": "stream",
     "text": [
      "Retrieved 45 items\n"
     ]
    },
    {
     "name": "stderr",
     "output_type": "stream",
     "text": [
      "390it [01:55,  3.37it/s]\n"
     ]
    }
   ],
   "source": [
    "from selenium import webdriver\n",
    "from selenium.webdriver.common.by import By\n",
    "from selenium.webdriver.common.keys import Keys\n",
    "import time\n",
    "\n",
    "driver = webdriver.Chrome()\n",
    "\n",
    "\n",
    "#a.pagination-next.pagination__next.j-next-page\n",
    "\n",
    "\n",
    "page_url = 'https://www.wildberries.ru/catalog/dom/dachniy-sezon/sadovaya-tehnika/trimmery?sort=popular&page=1'\n",
    "page_count = 1\n",
    "items_count = 0\n",
    "target = 350\n",
    "\n",
    "driver.get(page_url)\n",
    "\n",
    "with tqdm(total = target) as pbar:\n",
    "    while (items_count < target):\n",
    "        time.sleep(5)\n",
    "        scroll_to_bottom(driver)\n",
    "        items_temp = get_wb_product_links(driver)\n",
    "        print(f'Retrieved {items_temp} items')\n",
    "        pbar.update(items_temp)\n",
    "        items_count += items_temp\n",
    "        try:\n",
    "            page_count = go_next_page(driver, page_count)\n",
    "        except: \n",
    "            break\n",
    "\n",
    "driver.quit()"
   ]
  },
  {
   "cell_type": "code",
   "execution_count": 173,
   "id": "5dd2089c",
   "metadata": {},
   "outputs": [],
   "source": [
    "import pandas as pd\n",
    "\n",
    "data = pd.read_csv('data.csv')\n",
    "data = data.iloc[:228]"
   ]
  },
  {
   "cell_type": "code",
   "execution_count": 174,
   "id": "d73dec42",
   "metadata": {},
   "outputs": [
    {
     "data": {
      "text/html": [
       "<div>\n",
       "<style scoped>\n",
       "    .dataframe tbody tr th:only-of-type {\n",
       "        vertical-align: middle;\n",
       "    }\n",
       "\n",
       "    .dataframe tbody tr th {\n",
       "        vertical-align: top;\n",
       "    }\n",
       "\n",
       "    .dataframe thead th {\n",
       "        text-align: right;\n",
       "    }\n",
       "</style>\n",
       "<table border=\"1\" class=\"dataframe\">\n",
       "  <thead>\n",
       "    <tr style=\"text-align: right;\">\n",
       "      <th></th>\n",
       "      <th>title</th>\n",
       "      <th>url</th>\n",
       "    </tr>\n",
       "  </thead>\n",
       "  <tbody>\n",
       "    <tr>\n",
       "      <th>0</th>\n",
       "      <td>Триммер садовый электрический для травы Garden</td>\n",
       "      <td>https://www.wildberries.ru/catalog/209650955/d...</td>\n",
       "    </tr>\n",
       "    <tr>\n",
       "      <th>1</th>\n",
       "      <td>Триммер аккумуляторный садовый дачный кусторез...</td>\n",
       "      <td>https://www.wildberries.ru/catalog/77278318/de...</td>\n",
       "    </tr>\n",
       "    <tr>\n",
       "      <th>2</th>\n",
       "      <td>Триммер аккумуляторный GreenCut 20 (20В, акб 2...</td>\n",
       "      <td>https://www.wildberries.ru/catalog/18565737/de...</td>\n",
       "    </tr>\n",
       "    <tr>\n",
       "      <th>3</th>\n",
       "      <td>Триммер аккумуляторный садовый дачный кусторез...</td>\n",
       "      <td>https://www.wildberries.ru/catalog/113066515/d...</td>\n",
       "    </tr>\n",
       "    <tr>\n",
       "      <th>4</th>\n",
       "      <td>Триммер-газонокосилка аккумуляторный GreenCut ...</td>\n",
       "      <td>https://www.wildberries.ru/catalog/151530782/d...</td>\n",
       "    </tr>\n",
       "    <tr>\n",
       "      <th>...</th>\n",
       "      <td>...</td>\n",
       "      <td>...</td>\n",
       "    </tr>\n",
       "    <tr>\n",
       "      <th>223</th>\n",
       "      <td>Триммер садовый ЭТ-20-2ЛИ Ресанта</td>\n",
       "      <td>https://www.wildberries.ru/catalog/32788767/de...</td>\n",
       "    </tr>\n",
       "    <tr>\n",
       "      <th>224</th>\n",
       "      <td>Ремень для триммера, бензокосы ранцевый DreamM...</td>\n",
       "      <td>https://www.wildberries.ru/catalog/36485887/de...</td>\n",
       "    </tr>\n",
       "    <tr>\n",
       "      <th>225</th>\n",
       "      <td>Триммер садовый ЭТ-600, 600Вт, ширина - 320мм ...</td>\n",
       "      <td>https://www.wildberries.ru/catalog/32790048/de...</td>\n",
       "    </tr>\n",
       "    <tr>\n",
       "      <th>226</th>\n",
       "      <td>Леска для триммера звезда 3 мм катушка 144 мет...</td>\n",
       "      <td>https://www.wildberries.ru/catalog/111124662/d...</td>\n",
       "    </tr>\n",
       "    <tr>\n",
       "      <th>227</th>\n",
       "      <td>Леска для триммера 2шт ЕкаФи</td>\n",
       "      <td>https://www.wildberries.ru/catalog/164844986/d...</td>\n",
       "    </tr>\n",
       "  </tbody>\n",
       "</table>\n",
       "<p>228 rows × 2 columns</p>\n",
       "</div>"
      ],
      "text/plain": [
       "                                                 title  \\\n",
       "0       Триммер садовый электрический для травы Garden   \n",
       "1    Триммер аккумуляторный садовый дачный кусторез...   \n",
       "2    Триммер аккумуляторный GreenCut 20 (20В, акб 2...   \n",
       "3    Триммер аккумуляторный садовый дачный кусторез...   \n",
       "4    Триммер-газонокосилка аккумуляторный GreenCut ...   \n",
       "..                                                 ...   \n",
       "223                  Триммер садовый ЭТ-20-2ЛИ Ресанта   \n",
       "224  Ремень для триммера, бензокосы ранцевый DreamM...   \n",
       "225  Триммер садовый ЭТ-600, 600Вт, ширина - 320мм ...   \n",
       "226  Леска для триммера звезда 3 мм катушка 144 мет...   \n",
       "227                       Леска для триммера 2шт ЕкаФи   \n",
       "\n",
       "                                                   url  \n",
       "0    https://www.wildberries.ru/catalog/209650955/d...  \n",
       "1    https://www.wildberries.ru/catalog/77278318/de...  \n",
       "2    https://www.wildberries.ru/catalog/18565737/de...  \n",
       "3    https://www.wildberries.ru/catalog/113066515/d...  \n",
       "4    https://www.wildberries.ru/catalog/151530782/d...  \n",
       "..                                                 ...  \n",
       "223  https://www.wildberries.ru/catalog/32788767/de...  \n",
       "224  https://www.wildberries.ru/catalog/36485887/de...  \n",
       "225  https://www.wildberries.ru/catalog/32790048/de...  \n",
       "226  https://www.wildberries.ru/catalog/111124662/d...  \n",
       "227  https://www.wildberries.ru/catalog/164844986/d...  \n",
       "\n",
       "[228 rows x 2 columns]"
      ]
     },
     "execution_count": 174,
     "metadata": {},
     "output_type": "execute_result"
    }
   ],
   "source": [
    "data"
   ]
  },
  {
   "cell_type": "code",
   "execution_count": 215,
   "id": "99ff5cbb",
   "metadata": {},
   "outputs": [
    {
     "name": "stderr",
     "output_type": "stream",
     "text": [
      "\r",
      "Processing: 0it [00:00, ?it/s]"
     ]
    },
    {
     "name": "stdout",
     "output_type": "stream",
     "text": [
      "Working on: Триммер садовый электрический для травы Garden\n",
      "https://www.wildberries.ru/catalog/209650955/detail.aspx\n"
     ]
    },
    {
     "name": "stderr",
     "output_type": "stream",
     "text": [
      "Processing: 0it [00:06, ?it/s]\n"
     ]
    },
    {
     "ename": "FileNotFoundError",
     "evalue": "[Errno 2] No such file or directory: '/res/img/209650955.jpg'",
     "output_type": "error",
     "traceback": [
      "\u001b[0;31m---------------------------------------------------------------------------\u001b[0m",
      "\u001b[0;31mFileNotFoundError\u001b[0m                         Traceback (most recent call last)",
      "Cell \u001b[0;32mIn[215], line 20\u001b[0m\n\u001b[1;32m     18\u001b[0m \u001b[38;5;28mprint\u001b[39m(row[\u001b[38;5;124m'\u001b[39m\u001b[38;5;124murl\u001b[39m\u001b[38;5;124m'\u001b[39m])\n\u001b[1;32m     19\u001b[0m \u001b[38;5;66;03m#try:\u001b[39;00m\n\u001b[0;32m---> 20\u001b[0m metadata \u001b[38;5;241m=\u001b[39m scrape_wb_page(driver, row[\u001b[38;5;124m'\u001b[39m\u001b[38;5;124murl\u001b[39m\u001b[38;5;124m'\u001b[39m])\n\u001b[1;32m     21\u001b[0m write_metadata(metadata, \u001b[38;5;124m'\u001b[39m\u001b[38;5;124mmetadata.csv\u001b[39m\u001b[38;5;124m'\u001b[39m)\n\u001b[1;32m     22\u001b[0m \u001b[38;5;66;03m#except:\u001b[39;00m\n",
      "Cell \u001b[0;32mIn[214], line 17\u001b[0m, in \u001b[0;36mscrape_wb_page\u001b[0;34m(driver, url)\u001b[0m\n\u001b[1;32m     15\u001b[0m parsed_url \u001b[38;5;241m=\u001b[39m urlparse(image_url)\n\u001b[1;32m     16\u001b[0m file_extension \u001b[38;5;241m=\u001b[39m os\u001b[38;5;241m.\u001b[39mpath\u001b[38;5;241m.\u001b[39msplitext(parsed_url\u001b[38;5;241m.\u001b[39mpath)[\u001b[38;5;241m1\u001b[39m]\n\u001b[0;32m---> 17\u001b[0m filename, headers \u001b[38;5;241m=\u001b[39m urllib\u001b[38;5;241m.\u001b[39mrequest\u001b[38;5;241m.\u001b[39murlretrieve(image_url, \u001b[38;5;124mf\u001b[39m\u001b[38;5;124m\"\u001b[39m\u001b[38;5;124m/res/img/\u001b[39m\u001b[38;5;132;01m{\u001b[39;00mproduct_art\u001b[38;5;241m.\u001b[39mtext\u001b[38;5;132;01m}\u001b[39;00m\u001b[38;5;132;01m{\u001b[39;00mfile_extension\u001b[38;5;132;01m}\u001b[39;00m\u001b[38;5;124m\"\u001b[39m)\n\u001b[1;32m     19\u001b[0m \u001b[38;5;66;03m# Getting image metadata\u001b[39;00m\n\u001b[1;32m     21\u001b[0m image \u001b[38;5;241m=\u001b[39m Image\u001b[38;5;241m.\u001b[39mopen(filename)\n",
      "File \u001b[0;32m~/anaconda3/lib/python3.11/urllib/request.py:251\u001b[0m, in \u001b[0;36murlretrieve\u001b[0;34m(url, filename, reporthook, data)\u001b[0m\n\u001b[1;32m    249\u001b[0m \u001b[38;5;66;03m# Handle temporary file setup.\u001b[39;00m\n\u001b[1;32m    250\u001b[0m \u001b[38;5;28;01mif\u001b[39;00m filename:\n\u001b[0;32m--> 251\u001b[0m     tfp \u001b[38;5;241m=\u001b[39m \u001b[38;5;28mopen\u001b[39m(filename, \u001b[38;5;124m'\u001b[39m\u001b[38;5;124mwb\u001b[39m\u001b[38;5;124m'\u001b[39m)\n\u001b[1;32m    252\u001b[0m \u001b[38;5;28;01melse\u001b[39;00m:\n\u001b[1;32m    253\u001b[0m     tfp \u001b[38;5;241m=\u001b[39m tempfile\u001b[38;5;241m.\u001b[39mNamedTemporaryFile(delete\u001b[38;5;241m=\u001b[39m\u001b[38;5;28;01mFalse\u001b[39;00m)\n",
      "\u001b[0;31mFileNotFoundError\u001b[0m: [Errno 2] No such file or directory: '/res/img/209650955.jpg'"
     ]
    }
   ],
   "source": [
    "from tqdm import tqdm\n",
    "from IPython.display import clear_output\n",
    "import warnings\n",
    "\n",
    "try:\n",
    "    data = pd.read_csv('data.csv')\n",
    "    data = data.iloc[:228]\n",
    "except: \n",
    "    raise FileNotFoundError(f\"data.csv not found\")\n",
    "\n",
    "driver.quit()\n",
    "driver = webdriver.Chrome()\n",
    "driver.get('https://wildberries.ru/')\n",
    "\n",
    "\n",
    "for _, row in tqdm(data.iterrows(), desc='Processing'):\n",
    "    print(f\"Working on: {row['title']}\")\n",
    "    print(row['url'])\n",
    "    #try:\n",
    "    metadata = scrape_wb_page(driver, row['url'])\n",
    "    write_metadata(metadata, 'metadata.csv')\n",
    "    #except:\n",
    "    warnings.warn(f\"Failed to save {row['title']}\")\n",
    "    #    continue\n",
    "    clear_output(wait=True)\n",
    "    \n"
   ]
  },
  {
   "cell_type": "code",
   "execution_count": null,
   "id": "22c2a262",
   "metadata": {},
   "outputs": [],
   "source": []
  },
  {
   "cell_type": "code",
   "execution_count": 211,
   "id": "542254fb",
   "metadata": {},
   "outputs": [
    {
     "data": {
      "text/plain": [
       "<selenium.webdriver.remote.webelement.WebElement (session=\"7f91cf48e379a822f2e4c7fd35e1d5c6\", element=\"f.48AE1AB38BF3CFAF13453C57800E572C.d.4583CF138657E42BC0CEA9AC19CD8772.e.53\")>"
      ]
     },
     "execution_count": 211,
     "metadata": {},
     "output_type": "execute_result"
    }
   ],
   "source": [
    "image_elements[0]"
   ]
  },
  {
   "cell_type": "code",
   "execution_count": 53,
   "id": "1e47a0f6",
   "metadata": {},
   "outputs": [
    {
     "name": "stdout",
     "output_type": "stream",
     "text": [
      "{'id': 38098435, 'product_title': 'Электротриммер для травы садовый ЕТ 2800', 'product_description': ' Артикул 38098435 Гарантийный срок 12 месяцев Питание сетевое 220 В Мощность устройства 2800 Вт Мощность (лс) 3.8 лс Тип двигателя электрический Тип режущего инструмента леска; нож', 'filename': '1.jpg', 'format': 'JPEG', 'mode': 'RGB', 'resolution': (246, 328), 'filesize': 19.16, 'retrieved': 1710967536.037944}\n"
     ]
    }
   ],
   "source": [
    "import urllib.request\n",
    "from PIL import Image\n",
    "import os\n",
    "\n",
    "# Open the downloaded image using PIL\n",
    "image = Image.open(filename)\n",
    "filesize = os.path.getsize(filename) / 1024\n",
    "\n",
    "# Get the metadata\n",
    "metadata = {\n",
    "    \"id\": int(product_art.text),\n",
    "    \"product_title\": product_title.text,\n",
    "    \"product_description\": BeautifulSoup(product_description.get_attribute(\"outerHTML\"), 'html.parser').get_text(),\n",
    "    \"filename\": filename,\n",
    "    \"format\": image.format,\n",
    "    \"mode\": image.mode,\n",
    "    \"resolution\": image.size,\n",
    "    \"filesize\": round(filesize, 2),\n",
    "    \"retrieved\": time.time()\n",
    "}\n",
    "\n",
    "print(metadata)\n",
    "\n",
    "# Close the image\n",
    "image.close()\n"
   ]
  },
  {
   "cell_type": "code",
   "execution_count": null,
   "id": "053725ec",
   "metadata": {},
   "outputs": [],
   "source": []
  },
  {
   "cell_type": "code",
   "execution_count": 237,
   "id": "2c84bcba",
   "metadata": {},
   "outputs": [],
   "source": [
    "import requests\n",
    "from requests.adapters import HTTPAdapter\n",
    "from requests.packages.urllib3.util.retry import Retry\n",
    "from selenium.webdriver.common.keys import Keys\n",
    "import base64\n",
    "from PIL import Image\n",
    "from io import BytesIO\n",
    "\n",
    "\n",
    "driver.quit()\n",
    "\n",
    "driver = webdriver.Chrome()\n",
    "\n",
    "driver.get('https://www.wildberries.ru/catalog/209650955/detail.aspx')\n",
    "time.sleep(6)\n",
    "image_elements = driver.find_elements(By.XPATH, '//img[contains(@alt, \"Вид 1\")]')\n",
    "image_url = image_elements[0].get_attribute(\"src\")\n",
    "\n",
    "driver.get(image_url)\n",
    "img = driver.find_element(By.TAG_NAME, 'img')\n",
    "\n",
    "image_path = f'res/img/test.png'\n",
    "with open(image_path, 'wb') as file:\n",
    "    file.write(img.screenshot_as_png)\n",
    "    file.close()"
   ]
  },
  {
   "cell_type": "code",
   "execution_count": 123,
   "id": "17132e04",
   "metadata": {},
   "outputs": [],
   "source": [
    "import csv\n",
    "\n",
    "def write_metadata(metadata, filename):\n",
    "    csv_file_path = filename\n",
    "\n",
    "    if not os.path.exists(csv_file_path):\n",
    "        with open(csv_file_path, 'w', newline='') as csvfile:\n",
    "            writer = csv.DictWriter(csvfile, fieldnames=metadata.keys())\n",
    "            writer.writeheader()\n",
    "\n",
    "    with open(csv_file_path, 'a', newline='') as csvfile:\n",
    "        writer = csv.DictWriter(csvfile, fieldnames=metadata.keys())\n",
    "        writer.writerow(metadata)"
   ]
  }
 ],
 "metadata": {
  "kernelspec": {
   "display_name": "Python 3 (ipykernel)",
   "language": "python",
   "name": "python3"
  },
  "language_info": {
   "codemirror_mode": {
    "name": "ipython",
    "version": 3
   },
   "file_extension": ".py",
   "mimetype": "text/x-python",
   "name": "python",
   "nbconvert_exporter": "python",
   "pygments_lexer": "ipython3",
   "version": "3.11.4"
  }
 },
 "nbformat": 4,
 "nbformat_minor": 5
}
